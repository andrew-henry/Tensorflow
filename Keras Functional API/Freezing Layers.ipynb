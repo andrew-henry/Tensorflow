{
 "cells": [
  {
   "cell_type": "code",
   "execution_count": 2,
   "id": "b973f1c5",
   "metadata": {},
   "outputs": [],
   "source": [
    "import numpy as np\n",
    "import tensorflow as tf\n",
    "import matplotlib.pyplot as plt\n",
    "%matplotlib inline\n",
    "from tensorflow.keras.models import Sequential\n",
    "from tensorflow.keras import layers"
   ]
  },
  {
   "cell_type": "markdown",
   "id": "008c4652",
   "metadata": {},
   "source": [
    "* Building the model\n",
    "\n",
    "\n",
    "* Displaying the model summary\n",
    "\n",
    "\n",
    "* Examining the weight matrix variation over training"
   ]
  },
  {
   "cell_type": "code",
   "execution_count": 4,
   "id": "698c81a1",
   "metadata": {},
   "outputs": [],
   "source": [
    "model = Sequential([\n",
    "    layers.Dense(4, input_shape=(4,), activation='relu', kernel_initializer='random_uniform',\n",
    "                 bias_initializer='ones'),\n",
    "    layers.Dense(2, activation='relu', kernel_initializer='lecun_normal', bias_initializer='ones'),\n",
    "    layers.Dense(4, activation='softmax'),\n",
    "])"
   ]
  },
  {
   "cell_type": "code",
   "execution_count": 5,
   "id": "d42080ac",
   "metadata": {},
   "outputs": [
    {
     "name": "stdout",
     "output_type": "stream",
     "text": [
      "Model: \"sequential\"\n",
      "_________________________________________________________________\n",
      "Layer (type)                 Output Shape              Param #   \n",
      "=================================================================\n",
      "dense (Dense)                (None, 4)                 20        \n",
      "_________________________________________________________________\n",
      "dense_1 (Dense)              (None, 2)                 10        \n",
      "_________________________________________________________________\n",
      "dense_2 (Dense)              (None, 4)                 12        \n",
      "=================================================================\n",
      "Total params: 42\n",
      "Trainable params: 42\n",
      "Non-trainable params: 0\n",
      "_________________________________________________________________\n"
     ]
    }
   ],
   "source": [
    "model.summary()"
   ]
  },
  {
   "cell_type": "code",
   "execution_count": 19,
   "id": "4b94497a",
   "metadata": {},
   "outputs": [],
   "source": [
    "def get_weights(model):\n",
    "    return [e.weights[0].numpy() for e in model.layers]\n",
    "\n",
    "def get_biases(model):\n",
    "    return [e.bias.numpy() for e in model.layers]\n",
    "\n",
    "def plot_delta_weights(W0_layers, W1_layers, b0_layers, b1_layers):\n",
    "    plt.figure(figsize=(10,8))\n",
    "\n",
    "    for n in range(3):\n",
    "        delta_1 = W1_layers[n] - W0_layers[n]\n",
    "        print('Layer '+str(n)+': bias variation: ', np.linalg.norm(b1_layers[n] - b0_layers[n]))\n",
    "        ax = plt.subplot(1, 3, n+1)\n",
    "        plt.imshow(delta_1)\n",
    "        plt.title('Layer '+str(n))\n",
    "        plt.axis('off')\n",
    "    plt.colorbar()\n",
    "    plt.suptitle('Weight matrices variation');"
   ]
  },
  {
   "cell_type": "code",
   "execution_count": 6,
   "id": "39fbe2cd",
   "metadata": {},
   "outputs": [],
   "source": [
    "# Retrieve the weights and biases\n",
    "\n",
    "# W0_layers = [e.weights[0].numpy() for e in model.layers]\n",
    "# b0_layers = [e.bias.numpy() for e in model.layers]"
   ]
  },
  {
   "cell_type": "code",
   "execution_count": 14,
   "id": "43706683",
   "metadata": {},
   "outputs": [],
   "source": [
    "W0_layers = get_weights(model)\n",
    "b0_layers = get_biases(model)"
   ]
  },
  {
   "cell_type": "code",
   "execution_count": 15,
   "id": "f5fc68f8",
   "metadata": {},
   "outputs": [],
   "source": [
    "# Constructing a synthetic dataset\n",
    "\n",
    "x_train = np.random.random((100, 4))\n",
    "y_train = x_train\n",
    "\n",
    "x_test = np.random.random((20, 4))\n",
    "y_test = x_test"
   ]
  },
  {
   "cell_type": "code",
   "execution_count": 16,
   "id": "279bec15",
   "metadata": {},
   "outputs": [
    {
     "data": {
      "text/plain": [
       "<tensorflow.python.keras.callbacks.History at 0x1d7b211f430>"
      ]
     },
     "execution_count": 16,
     "metadata": {},
     "output_type": "execute_result"
    }
   ],
   "source": [
    "# Compiling and fitting the model\n",
    "\n",
    "model.compile(optimizer='adam', loss='mse', metrics=['acc'])\n",
    "\n",
    "model.fit(x_train, y_train, epochs=50, verbose=False)"
   ]
  },
  {
   "cell_type": "code",
   "execution_count": 17,
   "id": "dfe08d63",
   "metadata": {},
   "outputs": [],
   "source": [
    "# Retrieve weights and biases\n",
    "\n",
    "W1_layers = get_weights(model)\n",
    "b1_layers = get_biases(model)"
   ]
  },
  {
   "cell_type": "code",
   "execution_count": 11,
   "id": "ca5bba34",
   "metadata": {},
   "outputs": [
    {
     "name": "stdout",
     "output_type": "stream",
     "text": [
      "Layer 0: bias variation:  0.19807729\n",
      "Layer 1: bias variation:  0.12587641\n",
      "Layer 2: bias variation:  0.19089815\n"
     ]
    },
    {
     "data": {
      "image/png": "[encoded data removed]",
      "text/plain": [
       "<Figure size 720x576 with 4 Axes>"
      ]
     },
     "metadata": {
      "needs_background": "light"
     },
     "output_type": "display_data"
    }
   ],
   "source": [
    "# Plotting the variation\n",
    "\n",
    "plt.figure(figsize=(10,8))\n",
    "\n",
    "for n in range(3):\n",
    "    delta_1 = W1_layers[n] - W0_layers[n]\n",
    "    print('Layer '+str(n)+': bias variation: ', np.linalg.norm(b1_layers[n] - b0_layers[n]))\n",
    "    ax = plt.subplot(1, 3, n+1)\n",
    "    plt.imshow(delta_1)\n",
    "    plt.title('Layer '+str(n))\n",
    "    plt.axis('off')\n",
    "plt.colorbar()\n",
    "plt.suptitle('Weight matrices variation');"
   ]
  },
  {
   "cell_type": "code",
   "execution_count": 20,
   "id": "8142b922",
   "metadata": {},
   "outputs": [
    {
     "name": "stdout",
     "output_type": "stream",
     "text": [
      "Layer 0: bias variation:  0.031671125\n",
      "Layer 1: bias variation:  0.025125809\n",
      "Layer 2: bias variation:  0.061733052\n"
     ]
    },
    {
     "data": {
      "image/png": "[encoded data removed]",
      "text/plain": [
       "<Figure size 720x576 with 4 Axes>"
      ]
     },
     "metadata": {
      "needs_background": "light"
     },
     "output_type": "display_data"
    }
   ],
   "source": [
    "plot_delta_weights(W0_layers, W1_layers, b0_layers, b1_layers)"
   ]
  },
  {
   "cell_type": "markdown",
   "id": "76d04013",
   "metadata": {},
   "source": [
    "### Freezing layers at build time"
   ]
  },
  {
   "cell_type": "code",
   "execution_count": 21,
   "id": "e159e123",
   "metadata": {},
   "outputs": [],
   "source": [
    "n_trainable_variables = len(model.trainable_variables)\n",
    "n_non_trainable_variables = len(model.non_trainable_variables)"
   ]
  },
  {
   "cell_type": "code",
   "execution_count": 22,
   "id": "faf30ac8",
   "metadata": {},
   "outputs": [
    {
     "name": "stdout",
     "output_type": "stream",
     "text": [
      "\n",
      " Before freezing:\n",
      "\t Number of trainable variables:  6 \n",
      "\t Number of non trainable variables:  0\n"
     ]
    }
   ],
   "source": [
    "# Display the number of trainable and non trainable variables before the freezing\n",
    "\n",
    "print(\"\\n Before freezing:\\n\\t Number of trainable variables: \", n_trainable_variables,\n",
    "                         \"\\n\\t Number of non trainable variables: \", n_non_trainable_variables)"
   ]
  },
  {
   "cell_type": "code",
   "execution_count": 23,
   "id": "05430dd1",
   "metadata": {},
   "outputs": [],
   "source": [
    "model = Sequential([\n",
    "    layers.Dense(4, input_shape=(4,), activation='relu', kernel_initializer='random_uniform',\n",
    "                 bias_initializer='ones', trainable=False),\n",
    "    layers.Dense(2, activation='relu', kernel_initializer='lecun_normal', bias_initializer='ones'),\n",
    "    layers.Dense(4, activation='softmax'),\n",
    "])"
   ]
  },
  {
   "cell_type": "code",
   "execution_count": 24,
   "id": "b303ab91",
   "metadata": {},
   "outputs": [],
   "source": [
    "n_trainable_variables = len(model.trainable_variables)\n",
    "n_non_trainable_variables = len(model.non_trainable_variables)"
   ]
  },
  {
   "cell_type": "code",
   "execution_count": 25,
   "id": "0fdf1686",
   "metadata": {},
   "outputs": [
    {
     "name": "stdout",
     "output_type": "stream",
     "text": [
      "\n",
      " Before freezing:\n",
      "\t Number of trainable variables:  4 \n",
      "\t Number of non trainable variables:  2\n"
     ]
    }
   ],
   "source": [
    "print(\"\\n Before freezing:\\n\\t Number of trainable variables: \", n_trainable_variables,\n",
    "                         \"\\n\\t Number of non trainable variables: \", n_non_trainable_variables)"
   ]
  },
  {
   "cell_type": "code",
   "execution_count": 26,
   "id": "913c8530",
   "metadata": {},
   "outputs": [],
   "source": [
    "# Retrieve the weights and biases\n",
    "\n",
    "W0_layers = get_weights(model)\n",
    "b0_layers = get_biases(model)"
   ]
  },
  {
   "cell_type": "code",
   "execution_count": 27,
   "id": "11274da0",
   "metadata": {},
   "outputs": [
    {
     "data": {
      "text/plain": [
       "<tensorflow.python.keras.callbacks.History at 0x1d7b3144df0>"
      ]
     },
     "execution_count": 27,
     "metadata": {},
     "output_type": "execute_result"
    }
   ],
   "source": [
    "# Compiling the model\n",
    "\n",
    "model.compile(optimizer='adam', loss='mse', metrics=['acc'])\n",
    "\n",
    "model.fit(x_train, y_train, epochs=50, verbose=False)"
   ]
  },
  {
   "cell_type": "code",
   "execution_count": 28,
   "id": "dd0b0d97",
   "metadata": {},
   "outputs": [],
   "source": [
    "# Getting the weights and biases after training\n",
    "\n",
    "W1_layers = get_weights(model)\n",
    "b1_layers = get_biases(model)"
   ]
  },
  {
   "cell_type": "code",
   "execution_count": 29,
   "id": "8e663292",
   "metadata": {},
   "outputs": [
    {
     "name": "stdout",
     "output_type": "stream",
     "text": [
      "Layer 0: bias variation:  0.0\n",
      "Layer 1: bias variation:  0.046756327\n",
      "Layer 2: bias variation:  0.05686988\n"
     ]
    },
    {
     "data": {
      "image/png": "[encoded data removed]",
      "text/plain": [
       "<Figure size 720x576 with 4 Axes>"
      ]
     },
     "metadata": {
      "needs_background": "light"
     },
     "output_type": "display_data"
    }
   ],
   "source": [
    "# Can be seen that the first layer was frozen\n",
    "\n",
    "plot_delta_weights(W0_layers, W1_layers, b0_layers, b1_layers)"
   ]
  },
  {
   "cell_type": "code",
   "execution_count": null,
   "id": "11e7d52e",
   "metadata": {},
   "outputs": [],
   "source": []
  }
 ],
 "metadata": {
  "kernelspec": {
   "display_name": "Python 3",
   "language": "python",
   "name": "python3"
  },
  "language_info": {
   "codemirror_mode": {
    "name": "ipython",
    "version": 3
   },
   "file_extension": ".py",
   "mimetype": "text/x-python",
   "name": "python",
   "nbconvert_exporter": "python",
   "pygments_lexer": "ipython3",
   "version": "3.8.8"
  }
 },
 "nbformat": 4,
 "nbformat_minor": 5
}
