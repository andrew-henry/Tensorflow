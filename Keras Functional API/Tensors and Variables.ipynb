{
 "cells": [
  {
   "cell_type": "code",
   "execution_count": 1,
   "id": "1169f9ef",
   "metadata": {},
   "outputs": [],
   "source": [
    "import tensorflow as tf\n",
    "import numpy as np"
   ]
  },
  {
   "cell_type": "code",
   "execution_count": 2,
   "id": "a421b907",
   "metadata": {},
   "outputs": [
    {
     "name": "stdout",
     "output_type": "stream",
     "text": [
      "2.3.0\n"
     ]
    }
   ],
   "source": [
    "print(tf.__version__)"
   ]
  },
  {
   "cell_type": "markdown",
   "id": "fd23e275",
   "metadata": {},
   "source": [
    "* Creating variable objects of different types"
   ]
  },
  {
   "cell_type": "code",
   "execution_count": 3,
   "id": "1461063c",
   "metadata": {},
   "outputs": [],
   "source": [
    "strings = tf.Variable([\"Hello world\"], tf.string)\n",
    "\n",
    "floats = tf.Variable([3.14375, 2.78732], tf.float64)\n",
    "\n",
    "ints = tf.Variable([1, 2, 3], tf.int32)\n",
    "\n",
    "complexes = tf.Variable([25.9 - 7.39j, 1.23 - 4.91j], tf.complex128)"
   ]
  },
  {
   "cell_type": "code",
   "execution_count": 4,
   "id": "1c672e0a",
   "metadata": {},
   "outputs": [
    {
     "data": {
      "text/plain": [
       "<tf.Variable 'Variable:0' shape=(3, 3) dtype=float32, numpy=\n",
       "array([[4.2, 4.2, 4.2],\n",
       "       [4.2, 4.2, 4.2],\n",
       "       [4.2, 4.2, 4.2]], dtype=float32)>"
      ]
     },
     "execution_count": 4,
     "metadata": {},
     "output_type": "execute_result"
    }
   ],
   "source": [
    "tf.Variable(tf.constant(4.2, shape=(3,3)))"
   ]
  },
  {
   "cell_type": "code",
   "execution_count": 5,
   "id": "1dc44f18",
   "metadata": {},
   "outputs": [
    {
     "name": "stdout",
     "output_type": "stream",
     "text": [
      "<class 'tensorflow.python.framework.ops.EagerTensor'>\n"
     ]
    }
   ],
   "source": [
    "v = tf.Variable(0.0)\n",
    "\n",
    "w = v + 1\n",
    "\n",
    "print(type(w))"
   ]
  },
  {
   "cell_type": "code",
   "execution_count": 6,
   "id": "37b69f80",
   "metadata": {},
   "outputs": [
    {
     "name": "stdout",
     "output_type": "stream",
     "text": [
      "<tf.Variable 'Variable:0' shape=() dtype=float32, numpy=1.0>\n"
     ]
    }
   ],
   "source": [
    "v.assign_add(1)\n",
    "print(v)"
   ]
  },
  {
   "cell_type": "code",
   "execution_count": 7,
   "id": "628c9011",
   "metadata": {},
   "outputs": [
    {
     "name": "stdout",
     "output_type": "stream",
     "text": [
      "<tf.Variable 'Variable:0' shape=() dtype=float32, numpy=0.0>\n"
     ]
    }
   ],
   "source": [
    "v.assign_sub(1)\n",
    "print(v)"
   ]
  },
  {
   "cell_type": "markdown",
   "id": "736bfed7",
   "metadata": {},
   "source": [
    "### Creating tensor objects"
   ]
  },
  {
   "cell_type": "code",
   "execution_count": 8,
   "id": "0749ded9",
   "metadata": {},
   "outputs": [
    {
     "name": "stdout",
     "output_type": "stream",
     "text": [
      "tf.Tensor(\n",
      "[[1 2 3]\n",
      " [4 5 6]\n",
      " [7 8 9]], shape=(3, 3), dtype=int32)\n",
      "dtype: <dtype: 'int32'>\n",
      "shape: (3, 3)\n"
     ]
    }
   ],
   "source": [
    "x = tf.constant([[1, 2, 3], [4, 5, 6], [7, 8, 9]])\n",
    "print(x)\n",
    "print(\"dtype:\", x.dtype)\n",
    "print(\"shape:\", x.shape)"
   ]
  },
  {
   "cell_type": "code",
   "execution_count": 9,
   "id": "5b438f5e",
   "metadata": {},
   "outputs": [
    {
     "data": {
      "text/plain": [
       "array([[1, 2, 3],\n",
       "       [4, 5, 6],\n",
       "       [7, 8, 9]])"
      ]
     },
     "execution_count": 9,
     "metadata": {},
     "output_type": "execute_result"
    }
   ],
   "source": [
    "# Obtaining the value as a numpy array\n",
    "\n",
    "x.numpy()"
   ]
  },
  {
   "cell_type": "markdown",
   "id": "5f4a7365",
   "metadata": {},
   "source": [
    "* Creating coefficients\n",
    "\n",
    "\n",
    "* Initialising shapes\n",
    "\n",
    "\n",
    "* Creating tensors of different shapes"
   ]
  },
  {
   "cell_type": "code",
   "execution_count": 10,
   "id": "c971128b",
   "metadata": {},
   "outputs": [],
   "source": [
    "coeffs = np.arange(16)"
   ]
  },
  {
   "cell_type": "code",
   "execution_count": 11,
   "id": "28d16375",
   "metadata": {},
   "outputs": [],
   "source": [
    "shape1 = [8,2]\n",
    "shape2 = [4,4]\n",
    "shape3 = [2, 2, 2, 2]"
   ]
  },
  {
   "cell_type": "code",
   "execution_count": 12,
   "id": "a9beb529",
   "metadata": {},
   "outputs": [
    {
     "name": "stdout",
     "output_type": "stream",
     "text": [
      "\n",
      " a:\n",
      "  tf.Tensor(\n",
      "[[ 0  1]\n",
      " [ 2  3]\n",
      " [ 4  5]\n",
      " [ 6  7]\n",
      " [ 8  9]\n",
      " [10 11]\n",
      " [12 13]\n",
      " [14 15]], shape=(8, 2), dtype=int32)\n",
      "\n",
      " b:\n",
      "  tf.Tensor(\n",
      "[[ 0  1  2  3]\n",
      " [ 4  5  6  7]\n",
      " [ 8  9 10 11]\n",
      " [12 13 14 15]], shape=(4, 4), dtype=int32)\n",
      "\n",
      " c:\n",
      "  tf.Tensor(\n",
      "[[[[ 0  1]\n",
      "   [ 2  3]]\n",
      "\n",
      "  [[ 4  5]\n",
      "   [ 6  7]]]\n",
      "\n",
      "\n",
      " [[[ 8  9]\n",
      "   [10 11]]\n",
      "\n",
      "  [[12 13]\n",
      "   [14 15]]]], shape=(2, 2, 2, 2), dtype=int32)\n"
     ]
    }
   ],
   "source": [
    "a = tf.constant(coeffs, shape=shape1)\n",
    "print(\"\\n a:\\n \", a)\n",
    "\n",
    "b = tf.constant(coeffs, shape=shape2)\n",
    "print(\"\\n b:\\n \", b)\n",
    "\n",
    "c = tf.constant(coeffs, shape=shape3)\n",
    "print(\"\\n c:\\n \", c)"
   ]
  },
  {
   "cell_type": "markdown",
   "id": "3de2794f",
   "metadata": {},
   "source": [
    "* Creating a ones and a zeros Tensor\n",
    "\n",
    "\n",
    "* Concatenating the two tensors"
   ]
  },
  {
   "cell_type": "code",
   "execution_count": 13,
   "id": "2a59dd17",
   "metadata": {},
   "outputs": [],
   "source": [
    "t1 = tf.ones(shape=(2, 2))\n",
    "t2 = tf.zeros(shape=(2, 2))"
   ]
  },
  {
   "cell_type": "code",
   "execution_count": 14,
   "id": "c3c788c2",
   "metadata": {},
   "outputs": [],
   "source": [
    "concat0 = tf.concat([t1, t2], 0)\n",
    "concat1 = tf.concat([t1, t2], 1)"
   ]
  },
  {
   "cell_type": "code",
   "execution_count": 15,
   "id": "d73b9fda",
   "metadata": {},
   "outputs": [
    {
     "name": "stdout",
     "output_type": "stream",
     "text": [
      "tf.Tensor(\n",
      "[[1. 1.]\n",
      " [1. 1.]\n",
      " [0. 0.]\n",
      " [0. 0.]], shape=(4, 2), dtype=float32)\n",
      "tf.Tensor(\n",
      "[[1. 1. 0. 0.]\n",
      " [1. 1. 0. 0.]], shape=(2, 4), dtype=float32)\n"
     ]
    }
   ],
   "source": [
    "print(concat0)\n",
    "print(concat1)"
   ]
  },
  {
   "cell_type": "code",
   "execution_count": null,
   "id": "72821c07",
   "metadata": {},
   "outputs": [],
   "source": []
  }
 ],
 "metadata": {
  "kernelspec": {
   "display_name": "Python 3",
   "language": "python",
   "name": "python3"
  },
  "language_info": {
   "codemirror_mode": {
    "name": "ipython",
    "version": 3
   },
   "file_extension": ".py",
   "mimetype": "text/x-python",
   "name": "python",
   "nbconvert_exporter": "python",
   "pygments_lexer": "ipython3",
   "version": "3.8.8"
  }
 },
 "nbformat": 4,
 "nbformat_minor": 5
}
