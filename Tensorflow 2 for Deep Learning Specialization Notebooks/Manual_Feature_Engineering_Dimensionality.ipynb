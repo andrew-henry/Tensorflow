{
  "nbformat": 4,
  "nbformat_minor": 0,
  "metadata": {
    "kernelspec": {
      "display_name": "Python 3",
      "language": "python",
      "name": "python3"
    },
    "language_info": {
      "codemirror_mode": {
        "name": "ipython",
        "version": 3
      },
      "file_extension": ".py",
      "mimetype": "text/x-python",
      "name": "python",
      "nbconvert_exporter": "python",
      "pygments_lexer": "ipython3",
      "version": "3.6.8"
    },
    "colab": {
      "name": "Manual_Feature_Engineering_Dimensionality.ipynb",
      "provenance": [],
      "collapsed_sections": [],
      "machine_shape": "hm"
    }
  },
  "cells": [
    {
      "cell_type": "markdown",
      "metadata": {
        "id": "-oaTnIQF9V9m"
      },
      "source": [
        "# Ungraded lab: Manual Feature Engineering\n",
        "------------------------\n",
        " \n",
        "Welcome, during this ungraded lab you are going to perform feature engineering using TensorFlow and Keras. By having a deeper understanding of the problem you are dealing with and proposing transformations to the raw features you will see how the predictive power of your model increases. In particular you will:\n",
        "\n",
        "\n",
        "1. Define the model using feature columns.\n",
        "2. Use Lambda layers to perform feature engineering on some of these features.\n",
        "3. Compare the training history and predictions of the model before and after feature engineering.\n",
        "\n",
        "**Note**: This lab has some tweaks compared to the code you just saw on the lectures. The major one being that time-related variables are not used in the feature engineered model.\n",
        "\n",
        "Let's get started!"
      ]
    },
    {
      "cell_type": "markdown",
      "metadata": {
        "id": "0P7VGW6w9V9n"
      },
      "source": [
        "First, install and import the necessary packages, set up paths to work on and download the dataset.\n",
        "\n",
        "## Imports"
      ]
    },
    {
      "cell_type": "code",
      "metadata": {
        "id": "GJlL4SaV9V9v"
      },
      "source": [
        "# Import the packages\n",
        "\n",
        "# Utilities\n",
        "import os\n",
        "import logging\n",
        "\n",
        "# For visualization\n",
        "import matplotlib as mpl\n",
        "import matplotlib.pyplot as plt\n",
        "import pandas as pd\n",
        "\n",
        "# For modelling\n",
        "import tensorflow as tf\n",
        "from tensorflow import feature_column as fc\n",
        "from tensorflow.keras import layers, models\n",
        "\n",
        "# Set TF logger to only print errors (dismiss warnings)\n",
        "logging.getLogger(\"tensorflow\").setLevel(logging.ERROR)"
      ],
      "execution_count": 1,
      "outputs": []
    },
    {
      "cell_type": "markdown",
      "metadata": {
        "id": "RvhL6GAI9V9z"
      },
      "source": [
        "## Load taxifare dataset\n",
        "\n",
        "For this lab you are going to use a tweaked version of the [Taxi Fare dataset](https://www.kaggle.com/c/new-york-city-taxi-fare-prediction/data), which has been pre-processed and split beforehand. \n",
        "\n",
        "First, create the directory where the data is going to be saved.\n",
        "\n"
      ]
    },
    {
      "cell_type": "code",
      "metadata": {
        "id": "SCvWVB4H9V90"
      },
      "source": [
        "if not os.path.isdir(\"/tmp/data\"):\n",
        "    os.makedirs(\"/tmp/data\")"
      ],
      "execution_count": 2,
      "outputs": []
    },
    {
      "cell_type": "markdown",
      "metadata": {
        "id": "yC5BEPLxm2uP"
      },
      "source": [
        "Now download the data in `csv` format from a cloud storage bucket."
      ]
    },
    {
      "cell_type": "code",
      "metadata": {
        "id": "rKH_WXZH9V94",
        "colab": {
          "base_uri": "https://localhost:8080/"
        },
        "outputId": "86005ad8-dc07-40f8-f9de-73a0b93589be"
      },
      "source": [
        "!gsutil cp gs://cloud-training-demos/feat_eng/data/taxi*.csv /tmp/data"
      ],
      "execution_count": 3,
      "outputs": [
        {
          "output_type": "stream",
          "text": [
            "Copying gs://cloud-training-demos/feat_eng/data/taxi-test.csv...\n",
            "Copying gs://cloud-training-demos/feat_eng/data/taxi-train.csv...\n",
            "Copying gs://cloud-training-demos/feat_eng/data/taxi-valid.csv...\n",
            "/ [3 files][  5.3 MiB/  5.3 MiB]                                                \n",
            "Operation completed over 3 objects/5.3 MiB.                                      \n"
          ],
          "name": "stdout"
        }
      ]
    },
    {
      "cell_type": "markdown",
      "metadata": {
        "id": "HIEJqz359V96"
      },
      "source": [
        "Let's check that the files were copied correctly and look like we expect them to."
      ]
    },
    {
      "cell_type": "code",
      "metadata": {
        "id": "RW6Sm4799V97",
        "colab": {
          "base_uri": "https://localhost:8080/"
        },
        "outputId": "d9f91cfd-0700-4e71-835d-86b2d0fcd6a1"
      },
      "source": [
        "!ls -l /tmp/data/*.csv"
      ],
      "execution_count": 4,
      "outputs": [
        {
          "output_type": "stream",
          "text": [
            "-rw-r--r-- 1 root root 1113292 Aug  5 02:15 /tmp/data/taxi-test.csv\n",
            "-rw-r--r-- 1 root root 3551735 Aug  5 02:15 /tmp/data/taxi-train.csv\n",
            "-rw-r--r-- 1 root root  888648 Aug  5 02:15 /tmp/data/taxi-valid.csv\n"
          ],
          "name": "stdout"
        }
      ]
    },
    {
      "cell_type": "markdown",
      "metadata": {
        "id": "EStEEdDsnXHW"
      },
      "source": [
        "Everything looks fine. Notice that there are three files, one for each split of `training`, `testing` and `validation`.\n",
        "\n",
        "## Inspect tha data\n",
        "\n",
        "Now take a look at the training data."
      ]
    },
    {
      "cell_type": "code",
      "metadata": {
        "id": "1bUQlBaCCfSD",
        "colab": {
          "base_uri": "https://localhost:8080/",
          "height": 203
        },
        "outputId": "d16de09e-f724-4acb-c46d-d4953b250379"
      },
      "source": [
        "pd.read_csv('/tmp/data/taxi-train.csv').head()"
      ],
      "execution_count": 5,
      "outputs": [
        {
          "output_type": "execute_result",
          "data": {
            "text/html": [
              "<div>\n",
              "<style scoped>\n",
              "    .dataframe tbody tr th:only-of-type {\n",
              "        vertical-align: middle;\n",
              "    }\n",
              "\n",
              "    .dataframe tbody tr th {\n",
              "        vertical-align: top;\n",
              "    }\n",
              "\n",
              "    .dataframe thead th {\n",
              "        text-align: right;\n",
              "    }\n",
              "</style>\n",
              "<table border=\"1\" class=\"dataframe\">\n",
              "  <thead>\n",
              "    <tr style=\"text-align: right;\">\n",
              "      <th></th>\n",
              "      <th>fare_amount</th>\n",
              "      <th>passenger_count</th>\n",
              "      <th>pickup_longitude</th>\n",
              "      <th>pickup_latitude</th>\n",
              "      <th>dropoff_longitude</th>\n",
              "      <th>dropoff_latitude</th>\n",
              "      <th>hourofday</th>\n",
              "      <th>dayofweek</th>\n",
              "    </tr>\n",
              "  </thead>\n",
              "  <tbody>\n",
              "    <tr>\n",
              "      <th>0</th>\n",
              "      <td>8.1</td>\n",
              "      <td>1</td>\n",
              "      <td>-73.973731</td>\n",
              "      <td>40.791910</td>\n",
              "      <td>-73.962737</td>\n",
              "      <td>40.767318</td>\n",
              "      <td>14</td>\n",
              "      <td>4</td>\n",
              "    </tr>\n",
              "    <tr>\n",
              "      <th>1</th>\n",
              "      <td>4.5</td>\n",
              "      <td>2</td>\n",
              "      <td>-73.986495</td>\n",
              "      <td>40.739278</td>\n",
              "      <td>-73.986083</td>\n",
              "      <td>40.730933</td>\n",
              "      <td>10</td>\n",
              "      <td>6</td>\n",
              "    </tr>\n",
              "    <tr>\n",
              "      <th>2</th>\n",
              "      <td>2.9</td>\n",
              "      <td>1</td>\n",
              "      <td>-73.956043</td>\n",
              "      <td>40.772026</td>\n",
              "      <td>-73.956245</td>\n",
              "      <td>40.773934</td>\n",
              "      <td>22</td>\n",
              "      <td>3</td>\n",
              "    </tr>\n",
              "    <tr>\n",
              "      <th>3</th>\n",
              "      <td>7.0</td>\n",
              "      <td>1</td>\n",
              "      <td>-74.006557</td>\n",
              "      <td>40.705797</td>\n",
              "      <td>-73.980017</td>\n",
              "      <td>40.713617</td>\n",
              "      <td>6</td>\n",
              "      <td>3</td>\n",
              "    </tr>\n",
              "    <tr>\n",
              "      <th>4</th>\n",
              "      <td>6.5</td>\n",
              "      <td>1</td>\n",
              "      <td>-73.986443</td>\n",
              "      <td>40.741612</td>\n",
              "      <td>-73.990215</td>\n",
              "      <td>40.746467</td>\n",
              "      <td>10</td>\n",
              "      <td>2</td>\n",
              "    </tr>\n",
              "  </tbody>\n",
              "</table>\n",
              "</div>"
            ],
            "text/plain": [
              "   fare_amount  passenger_count  ...  hourofday  dayofweek\n",
              "0          8.1                1  ...         14          4\n",
              "1          4.5                2  ...         10          6\n",
              "2          2.9                1  ...         22          3\n",
              "3          7.0                1  ...          6          3\n",
              "4          6.5                1  ...         10          2\n",
              "\n",
              "[5 rows x 8 columns]"
            ]
          },
          "metadata": {
            "tags": []
          },
          "execution_count": 5
        }
      ]
    },
    {
      "cell_type": "code",
      "metadata": {
        "colab": {
          "base_uri": "https://localhost:8080/",
          "height": 172
        },
        "id": "L7NHBidBGHui",
        "outputId": "0159f6ef-01da-4481-d277-c4cf034ae65c"
      },
      "source": [
        "pd.read_csv('/tmp/data/taxi-train.csv').tail(4)"
      ],
      "execution_count": 6,
      "outputs": [
        {
          "output_type": "execute_result",
          "data": {
            "text/html": [
              "<div>\n",
              "<style scoped>\n",
              "    .dataframe tbody tr th:only-of-type {\n",
              "        vertical-align: middle;\n",
              "    }\n",
              "\n",
              "    .dataframe tbody tr th {\n",
              "        vertical-align: top;\n",
              "    }\n",
              "\n",
              "    .dataframe thead th {\n",
              "        text-align: right;\n",
              "    }\n",
              "</style>\n",
              "<table border=\"1\" class=\"dataframe\">\n",
              "  <thead>\n",
              "    <tr style=\"text-align: right;\">\n",
              "      <th></th>\n",
              "      <th>fare_amount</th>\n",
              "      <th>passenger_count</th>\n",
              "      <th>pickup_longitude</th>\n",
              "      <th>pickup_latitude</th>\n",
              "      <th>dropoff_longitude</th>\n",
              "      <th>dropoff_latitude</th>\n",
              "      <th>hourofday</th>\n",
              "      <th>dayofweek</th>\n",
              "    </tr>\n",
              "  </thead>\n",
              "  <tbody>\n",
              "    <tr>\n",
              "      <th>59616</th>\n",
              "      <td>10.5</td>\n",
              "      <td>1</td>\n",
              "      <td>-73.980057</td>\n",
              "      <td>40.722453</td>\n",
              "      <td>-73.994382</td>\n",
              "      <td>40.697837</td>\n",
              "      <td>1</td>\n",
              "      <td>5</td>\n",
              "    </tr>\n",
              "    <tr>\n",
              "      <th>59617</th>\n",
              "      <td>8.9</td>\n",
              "      <td>3</td>\n",
              "      <td>-73.996288</td>\n",
              "      <td>40.722124</td>\n",
              "      <td>-74.014632</td>\n",
              "      <td>40.709785</td>\n",
              "      <td>20</td>\n",
              "      <td>3</td>\n",
              "    </tr>\n",
              "    <tr>\n",
              "      <th>59618</th>\n",
              "      <td>3.7</td>\n",
              "      <td>1</td>\n",
              "      <td>-73.954095</td>\n",
              "      <td>40.770519</td>\n",
              "      <td>-73.946361</td>\n",
              "      <td>40.772739</td>\n",
              "      <td>11</td>\n",
              "      <td>0</td>\n",
              "    </tr>\n",
              "    <tr>\n",
              "      <th>59619</th>\n",
              "      <td>13.5</td>\n",
              "      <td>1</td>\n",
              "      <td>-74.007447</td>\n",
              "      <td>40.717837</td>\n",
              "      <td>-73.977475</td>\n",
              "      <td>40.745437</td>\n",
              "      <td>12</td>\n",
              "      <td>6</td>\n",
              "    </tr>\n",
              "  </tbody>\n",
              "</table>\n",
              "</div>"
            ],
            "text/plain": [
              "       fare_amount  passenger_count  ...  hourofday  dayofweek\n",
              "59616         10.5                1  ...          1          5\n",
              "59617          8.9                3  ...         20          3\n",
              "59618          3.7                1  ...         11          0\n",
              "59619         13.5                1  ...         12          6\n",
              "\n",
              "[4 rows x 8 columns]"
            ]
          },
          "metadata": {
            "tags": []
          },
          "execution_count": 6
        }
      ]
    },
    {
      "cell_type": "markdown",
      "metadata": {
        "id": "b1ybIPxDnGTS"
      },
      "source": [
        "The data contains a total of 8 variables.\n",
        "\n",
        "The `fare_amount` is the target, the continuous value we’ll train a model to predict. This leaves you with 7 features. \n",
        "\n",
        "However this lab is going to focus on transforming the geospatial ones so the time features `hourofday` and `dayofweek` will be ignored."
      ]
    },
    {
      "cell_type": "markdown",
      "metadata": {
        "id": "pcIlWn3H9V-E"
      },
      "source": [
        "## Create an input pipeline \n",
        "\n",
        "To load the data for the model you are going to use an experimental feature of Tensorflow that lets loading directly from a `csv` file.\n",
        "\n",
        "For this you need to define some lists containing relevant information of the dataset such as the type of the columns."
      ]
    },
    {
      "cell_type": "code",
      "metadata": {
        "id": "cxC3Qjx19V-E"
      },
      "source": [
        "# Specify which column is the target\n",
        "LABEL_COLUMN = 'fare_amount'\n",
        "\n",
        "# Specify numerical columns\n",
        "# Note you should create another list with STRING_COLS if you \n",
        "# had text data but in this case all features are numerical\n",
        "NUMERIC_COLS = ['pickup_longitude', 'pickup_latitude',\n",
        "                'dropoff_longitude', 'dropoff_latitude',\n",
        "                'passenger_count', 'hourofday', 'dayofweek']\n",
        "\n",
        "\n",
        "# A function to separate features and labels\n",
        "def features_and_labels(row_data):\n",
        "    label = row_data.pop(LABEL_COLUMN)\n",
        "    return row_data, label\n",
        "\n",
        "\n",
        "# A utility method to create a tf.data dataset from a CSV file\n",
        "def load_dataset(pattern, batch_size=1, mode='eval'):\n",
        "    dataset = tf.data.experimental.make_csv_dataset(pattern, batch_size)\n",
        "    \n",
        "    dataset = dataset.map(features_and_labels)  # features, label\n",
        "    if mode == 'train':\n",
        "        # Notice the repeat method is used so this dataset will loop infinitely\n",
        "        dataset = dataset.shuffle(1000).repeat()\n",
        "        # take advantage of multi-threading; 1=AUTOTUNE\n",
        "        dataset = dataset.prefetch(1)\n",
        "    return dataset"
      ],
      "execution_count": 7,
      "outputs": []
    },
    {
      "cell_type": "markdown",
      "metadata": {
        "id": "uAhDWtck9V-K"
      },
      "source": [
        "## Create a DNN Model in Keras\n",
        "\n",
        "Now you will build a simple Neural Network with the numerical features as input represented by a [`DenseFeatures`](https://www.tensorflow.org/api_docs/python/tf/keras/layers/DenseFeatures) layer (which produces a dense Tensor based on the given features), two dense layers with ReLU activation functions and an output layer with a linear activation function (since this is a regression problem).\n",
        "\n",
        "Since the model is defined using `feature columns` the first layer might look different to what you are used to. This is done by declaring two dictionaries, one for the inputs (defined as Input layers) and one for the features (defined as feature columns).\n",
        "\n",
        "Then computing the `DenseFeatures` tensor by passing in the feature columns to the constructor of the `DenseFeatures` layer and passing in the inputs to the resulting tensor (this is easier to understand with code):"
      ]
    },
    {
      "cell_type": "code",
      "metadata": {
        "id": "5jheXumL9V-K"
      },
      "source": [
        "def build_dnn_model():\n",
        "    # input layer\n",
        "    inputs = {\n",
        "        colname: layers.Input(name=colname, shape=(), dtype='float32')\n",
        "        for colname in NUMERIC_COLS\n",
        "    }\n",
        "\n",
        "    # feature_columns\n",
        "    feature_columns = {\n",
        "        colname: fc.numeric_column(colname)\n",
        "        for colname in NUMERIC_COLS\n",
        "    }\n",
        "\n",
        "    # Constructor for DenseFeatures takes a list of numeric columns\n",
        "    # and the resulting tensor takes a dictionary of Input layers\n",
        "    dnn_inputs = layers.DenseFeatures(feature_columns.values())(inputs)\n",
        "\n",
        "    # two hidden layers of 32 and 8 units, respectively\n",
        "    h1 = layers.Dense(32, activation='relu', name='h1')(dnn_inputs)\n",
        "    h2 = layers.Dense(8, activation='relu', name='h2')(h1)\n",
        "\n",
        "    # final output is a linear activation because this is a regression problem\n",
        "    output = layers.Dense(1, activation='linear', name='fare')(h2)\n",
        "\n",
        "    # Create model with inputs and output\n",
        "    model = models.Model(inputs, output)\n",
        "\n",
        "    # compile model (Mean Squared Error is suitable for regression)\n",
        "    model.compile(optimizer='adam', \n",
        "                  loss='mse', \n",
        "                  metrics=[\n",
        "                      tf.keras.metrics.RootMeanSquaredError(name='rmse'), \n",
        "                      'mse'\n",
        "                  ])\n",
        "\n",
        "    return model"
      ],
      "execution_count": 8,
      "outputs": []
    },
    {
      "cell_type": "markdown",
      "metadata": {
        "id": "FuKLnld69V-N"
      },
      "source": [
        "We'll build our DNN model and inspect the model architecture."
      ]
    },
    {
      "cell_type": "code",
      "metadata": {
        "id": "EnvtEUnd9V-N",
        "colab": {
          "base_uri": "https://localhost:8080/",
          "height": 517
        },
        "outputId": "af648364-6d5b-4a92-a73f-58f2f88e62fb"
      },
      "source": [
        "# Save compiled model into a variable\n",
        "model = build_dnn_model()\n",
        "\n",
        "# Plot the layer architecture and relationship between input features\n",
        "tf.keras.utils.plot_model(model, 'dnn_model.png', show_shapes=False, rankdir='LR')"
      ],
      "execution_count": 9,
      "outputs": [
        {
          "output_type": "execute_result",
          "data": {
            "image/png": "[encoded data removed]",
            "text/plain": [
              "<IPython.core.display.Image object>"
            ]
          },
          "metadata": {
            "tags": []
          },
          "execution_count": 9
        }
      ]
    },
    {
      "cell_type": "markdown",
      "metadata": {
        "id": "ol9FVnFnayeU"
      },
      "source": [
        "With the model architecture defined it is time to train it!"
      ]
    },
    {
      "cell_type": "markdown",
      "metadata": {
        "id": "G5R1zEJj9V-Q"
      },
      "source": [
        "## Train the model\n",
        "\n",
        "You are going to train the model for 20 epochs using a batch size of 32."
      ]
    },
    {
      "cell_type": "code",
      "metadata": {
        "id": "AwW7dL8t9V-Q",
        "colab": {
          "base_uri": "https://localhost:8080/"
        },
        "outputId": "8296e4ea-1a0c-41e6-85ef-ce806c79e547"
      },
      "source": [
        "NUM_EPOCHS = 20\n",
        "TRAIN_BATCH_SIZE = 32 \n",
        "NUM_TRAIN_EXAMPLES = len(pd.read_csv('/tmp/data/taxi-train.csv'))\n",
        "NUM_EVAL_EXAMPLES = len(pd.read_csv('/tmp/data/taxi-valid.csv'))\n",
        "\n",
        "print(f\"training split has {NUM_TRAIN_EXAMPLES} examples\\n\")\n",
        "print(f\"evaluation split has {NUM_EVAL_EXAMPLES} examples\\n\")"
      ],
      "execution_count": 10,
      "outputs": [
        {
          "output_type": "stream",
          "text": [
            "training split has 59620 examples\n",
            "\n",
            "evaluation split has 14905 examples\n",
            "\n"
          ],
          "name": "stdout"
        }
      ]
    },
    {
      "cell_type": "markdown",
      "metadata": {
        "id": "_D_sr3UQfpGj"
      },
      "source": [
        "Use the previously defined function to load the datasets from the original csv files."
      ]
    },
    {
      "cell_type": "code",
      "metadata": {
        "id": "NWwcyV6I9V-S",
        "colab": {
          "base_uri": "https://localhost:8080/"
        },
        "outputId": "483a0b7a-205d-490a-9b06-3947c1b2b0a1"
      },
      "source": [
        "# Training dataset\n",
        "trainds = load_dataset('/tmp/data/taxi-train*', TRAIN_BATCH_SIZE, 'train')\n",
        "\n",
        "# Evaluation dataset\n",
        "evalds = load_dataset('/tmp/data/taxi-valid*', 1000, 'eval').take(NUM_EVAL_EXAMPLES//1000)\n",
        "\n",
        "# Needs to be specified since the dataset is infinite \n",
        "# This happens because the repeat method was used when creating the dataset\n",
        "steps_per_epoch = NUM_TRAIN_EXAMPLES // TRAIN_BATCH_SIZE\n",
        "\n",
        "# Train the model and save the history\n",
        "history = model.fit(trainds,\n",
        "                    validation_data=evalds,\n",
        "                    epochs=NUM_EPOCHS,\n",
        "                    steps_per_epoch=steps_per_epoch)"
      ],
      "execution_count": 11,
      "outputs": [
        {
          "output_type": "stream",
          "text": [
            "Epoch 1/20\n",
            "1863/1863 [==============================] - 6s 3ms/step - loss: 102.1023 - rmse: 10.1046 - mse: 102.1023 - val_loss: 102.4588 - val_rmse: 10.1222 - val_mse: 102.4588\n",
            "Epoch 2/20\n",
            "1863/1863 [==============================] - 4s 2ms/step - loss: 104.4599 - rmse: 10.2206 - mse: 104.4599 - val_loss: 100.6885 - val_rmse: 10.0344 - val_mse: 100.6885\n",
            "Epoch 3/20\n",
            "1863/1863 [==============================] - 4s 2ms/step - loss: 99.7361 - rmse: 9.9868 - mse: 99.7361 - val_loss: 100.7122 - val_rmse: 10.0355 - val_mse: 100.7122\n",
            "Epoch 4/20\n",
            "1863/1863 [==============================] - 4s 2ms/step - loss: 103.6784 - rmse: 10.1823 - mse: 103.6784 - val_loss: 100.7876 - val_rmse: 10.0393 - val_mse: 100.7876\n",
            "Epoch 5/20\n",
            "1863/1863 [==============================] - 4s 2ms/step - loss: 103.7992 - rmse: 10.1882 - mse: 103.7992 - val_loss: 101.7551 - val_rmse: 10.0874 - val_mse: 101.7551\n",
            "Epoch 6/20\n",
            "1863/1863 [==============================] - 4s 2ms/step - loss: 101.7153 - rmse: 10.0854 - mse: 101.7153 - val_loss: 101.6635 - val_rmse: 10.0828 - val_mse: 101.6635\n",
            "Epoch 7/20\n",
            "1863/1863 [==============================] - 4s 2ms/step - loss: 101.0963 - rmse: 10.0547 - mse: 101.0963 - val_loss: 100.6868 - val_rmse: 10.0343 - val_mse: 100.6868\n",
            "Epoch 8/20\n",
            "1863/1863 [==============================] - 4s 2ms/step - loss: 102.4102 - rmse: 10.1198 - mse: 102.4102 - val_loss: 99.9747 - val_rmse: 9.9987 - val_mse: 99.9747\n",
            "Epoch 9/20\n",
            "1863/1863 [==============================] - 4s 2ms/step - loss: 102.6624 - rmse: 10.1322 - mse: 102.6624 - val_loss: 102.9438 - val_rmse: 10.1461 - val_mse: 102.9438\n",
            "Epoch 10/20\n",
            "1863/1863 [==============================] - 5s 3ms/step - loss: 104.3421 - rmse: 10.2148 - mse: 104.3421 - val_loss: 100.9926 - val_rmse: 10.0495 - val_mse: 100.9926\n",
            "Epoch 11/20\n",
            "1863/1863 [==============================] - 4s 2ms/step - loss: 102.7603 - rmse: 10.1371 - mse: 102.7603 - val_loss: 98.5434 - val_rmse: 9.9269 - val_mse: 98.5434\n",
            "Epoch 12/20\n",
            "1863/1863 [==============================] - 4s 2ms/step - loss: 100.3362 - rmse: 10.0168 - mse: 100.3362 - val_loss: 100.9996 - val_rmse: 10.0499 - val_mse: 100.9996\n",
            "Epoch 13/20\n",
            "1863/1863 [==============================] - 4s 2ms/step - loss: 102.0301 - rmse: 10.1010 - mse: 102.0301 - val_loss: 101.2818 - val_rmse: 10.0639 - val_mse: 101.2818\n",
            "Epoch 14/20\n",
            "1863/1863 [==============================] - 4s 2ms/step - loss: 100.7811 - rmse: 10.0390 - mse: 100.7811 - val_loss: 100.0494 - val_rmse: 10.0025 - val_mse: 100.0494\n",
            "Epoch 15/20\n",
            "1863/1863 [==============================] - 4s 2ms/step - loss: 102.6050 - rmse: 10.1294 - mse: 102.6050 - val_loss: 100.7124 - val_rmse: 10.0356 - val_mse: 100.7124\n",
            "Epoch 16/20\n",
            "1863/1863 [==============================] - 4s 2ms/step - loss: 102.3077 - rmse: 10.1147 - mse: 102.3077 - val_loss: 99.7551 - val_rmse: 9.9878 - val_mse: 99.7551\n",
            "Epoch 17/20\n",
            "1863/1863 [==============================] - 4s 2ms/step - loss: 106.6149 - rmse: 10.3254 - mse: 106.6149 - val_loss: 100.2524 - val_rmse: 10.0126 - val_mse: 100.2524\n",
            "Epoch 18/20\n",
            "1863/1863 [==============================] - 4s 2ms/step - loss: 99.8551 - rmse: 9.9928 - mse: 99.8551 - val_loss: 97.8140 - val_rmse: 9.8901 - val_mse: 97.8140\n",
            "Epoch 19/20\n",
            "1863/1863 [==============================] - 4s 2ms/step - loss: 101.9271 - rmse: 10.0959 - mse: 101.9271 - val_loss: 101.1776 - val_rmse: 10.0587 - val_mse: 101.1776\n",
            "Epoch 20/20\n",
            "1863/1863 [==============================] - 4s 2ms/step - loss: 104.0338 - rmse: 10.1997 - mse: 104.0338 - val_loss: 101.0353 - val_rmse: 10.0516 - val_mse: 101.0353\n"
          ],
          "name": "stdout"
        }
      ]
    },
    {
      "cell_type": "markdown",
      "metadata": {
        "id": "MbcJqYFu9V-V"
      },
      "source": [
        "### Visualize training curves\n",
        "\n",
        "Now lets visualize the training history of the model with the raw features:"
      ]
    },
    {
      "cell_type": "code",
      "metadata": {
        "id": "yVlOutPY9V-V",
        "colab": {
          "base_uri": "https://localhost:8080/",
          "height": 350
        },
        "outputId": "c529313e-ac9f-4820-b8e0-070909167d84"
      },
      "source": [
        "# Function for plotting metrics for a given history\n",
        "def plot_curves(history, metrics):\n",
        "    nrows = 1\n",
        "    ncols = 2\n",
        "    fig = plt.figure(figsize=(10, 5))\n",
        "\n",
        "    for idx, key in enumerate(metrics):  \n",
        "        ax = fig.add_subplot(nrows, ncols, idx+1)\n",
        "        plt.plot(history.history[key])\n",
        "        plt.plot(history.history[f'val_{key}'])\n",
        "        plt.title(f'model {key}')\n",
        "        plt.ylabel(key)\n",
        "        plt.xlabel('epoch')\n",
        "        plt.legend(['train', 'validation'], loc='upper left')\n",
        "\n",
        "\n",
        "# Plot history metrics\n",
        "plot_curves(history, ['loss', 'mse'])"
      ],
      "execution_count": 12,
      "outputs": [
        {
          "output_type": "display_data",
          "data": {
            "image/png": "[encoded data removed]",
            "text/plain": [
              "<Figure size 720x360 with 2 Axes>"
            ]
          },
          "metadata": {
            "tags": [],
            "needs_background": "light"
          }
        }
      ]
    },
    {
      "cell_type": "markdown",
      "metadata": {
        "id": "NUpJkrpNhm8-"
      },
      "source": [
        "The training history doesn't look very promising showing an erratic behaviour. Looks like the training process struggled to transverse the high dimensional space that the current features create. \n",
        "\n",
        "Nevertheless let's use it for prediction.\n",
        "\n",
        "Notice that the latitude and longitude values should revolve around (`37`, `45`) and (`-70`, `-78`) respectively since these are the range of coordinates for New York city."
      ]
    },
    {
      "cell_type": "code",
      "metadata": {
        "id": "mtNMWIg69V-a",
        "colab": {
          "base_uri": "https://localhost:8080/"
        },
        "outputId": "574ef2ce-b47a-478c-eacb-515770c9fc04"
      },
      "source": [
        "# Define a taxi ride (a data point)\n",
        "taxi_ride = {\n",
        "    'pickup_longitude': tf.convert_to_tensor([-73.982683]),\n",
        "    'pickup_latitude': tf.convert_to_tensor([40.742104]),\n",
        "    'dropoff_longitude': tf.convert_to_tensor([-73.983766]),\n",
        "    'dropoff_latitude': tf.convert_to_tensor([40.755174]),\n",
        "    'passenger_count': tf.convert_to_tensor([3.0]),\n",
        "    'hourofday': tf.convert_to_tensor([3.0]),\n",
        "    'dayofweek': tf.convert_to_tensor([3.0]),\n",
        "}\n",
        "\n",
        "# Use the model to predict\n",
        "prediction = model.predict(taxi_ride, steps=1)\n",
        "\n",
        "# Print prediction\n",
        "print(f\"the model predicted a fare total of {float(prediction):.2f} USD for the ride.\")"
      ],
      "execution_count": 13,
      "outputs": [
        {
          "output_type": "stream",
          "text": [
            "the model predicted a fare total of 12.36 USD for the ride.\n"
          ],
          "name": "stdout"
        }
      ]
    },
    {
      "cell_type": "markdown",
      "metadata": {
        "id": "fZhFMdh7ixN6"
      },
      "source": [
        "The model predicted this particular ride to be around 12 USD. However you know the model performance is not the best as it was showcased by the training history. Let's improve it by using **Feature Engineering**."
      ]
    },
    {
      "cell_type": "markdown",
      "metadata": {
        "id": "e1TNR8nI3Bdv"
      },
      "source": [
        "## Improve Model Performance Using Feature Engineering \n",
        "\n",
        "Going forward you will only use geo-spatial features as these are the most relevant when calculating the fare since this value is mostly dependant on the distance transversed:"
      ]
    },
    {
      "cell_type": "code",
      "metadata": {
        "id": "gRSTOWC7285u"
      },
      "source": [
        "# Drop dayofweek and hourofday features\n",
        "NUMERIC_COLS = ['pickup_longitude', 'pickup_latitude',\n",
        "                'dropoff_longitude', 'dropoff_latitude']"
      ],
      "execution_count": 14,
      "outputs": []
    },
    {
      "cell_type": "markdown",
      "metadata": {
        "id": "Cm5rY2B_9V-d"
      },
      "source": [
        "Since you are dealing exclusively with geospatial data you will create some transformations that are aware of this geospatial nature. This help the model make a better representation of the problem at hand.\n",
        "\n",
        "For instance the model cannot magically understand what a coordinate is supposed to represent and since the data is taken from New York only, the latitude and longitude revolve around (`37`, `45`) and (`-70`, `-78`) respectively, which is arbitrary for the model. A good first step is to scale these values. \n",
        "\n",
        "**Notice all transformations are created by defining functions**."
      ]
    },
    {
      "cell_type": "code",
      "metadata": {
        "id": "-dOFcJJn9V-j"
      },
      "source": [
        "def scale_longitude(lon_column):\n",
        "    return (lon_column + 78)/8."
      ],
      "execution_count": 15,
      "outputs": []
    },
    {
      "cell_type": "code",
      "metadata": {
        "id": "rGLNozez9V-m"
      },
      "source": [
        "def scale_latitude(lat_column):\n",
        "    return (lat_column - 37)/8."
      ],
      "execution_count": 16,
      "outputs": []
    },
    {
      "cell_type": "markdown",
      "metadata": {
        "id": "NhMqPABOm4h1"
      },
      "source": [
        "Another important fact is that the fare of a taxi ride is proportional to the distance of the ride. But as the features currently are, there is no way for the model to infer that the pair of (`pickup_latitude`, `pickup_longitude`) represent the point where the passenger started the ride and the pair (`dropoff_latitude`, `dropoff_longitude`) represent the point where the ride ended. More importantly, the model is not aware that the distance between these two points is crucial for predicting the fare.\n",
        "\n",
        "To solve this, a new feature (which is a transformation of the other ones) that provides this information is required."
      ]
    },
    {
      "cell_type": "code",
      "metadata": {
        "id": "x-_yQj1S9V-g"
      },
      "source": [
        "def euclidean(params):\n",
        "    lon1, lat1, lon2, lat2 = params\n",
        "    londiff = lon2 - lon1\n",
        "    latdiff = lat2 - lat1\n",
        "    return tf.sqrt(londiff*londiff + latdiff*latdiff)"
      ],
      "execution_count": 17,
      "outputs": []
    },
    {
      "cell_type": "markdown",
      "metadata": {
        "id": "Ss4nvMbP9V-o"
      },
      "source": [
        "### Applying transformations\n",
        "\n",
        "Now you will define the `transform` function which will apply the previously defined transformation functions. To apply the actual transformations you will be using `Lambda` layers apply a function to values (in this case the inputs).\n"
      ]
    },
    {
      "cell_type": "code",
      "metadata": {
        "id": "0kXOft7O9V-o"
      },
      "source": [
        "def transform(inputs, numeric_cols):\n",
        "\n",
        "    # Make a copy of the inputs to apply the transformations to\n",
        "    transformed = inputs.copy()\n",
        "\n",
        "    # Define feature columns\n",
        "    feature_columns = {\n",
        "        colname: tf.feature_column.numeric_column(colname)\n",
        "        for colname in numeric_cols\n",
        "    }\n",
        "\n",
        "    # Scaling longitude from range [-70, -78] to [0, 1]\n",
        "    for lon_col in ['pickup_longitude', 'dropoff_longitude']:\n",
        "        transformed[lon_col] = layers.Lambda(\n",
        "            scale_longitude,\n",
        "            name=f\"scale_{lon_col}\")(inputs[lon_col])\n",
        "\n",
        "    # Scaling latitude from range [37, 45] to [0, 1]\n",
        "    for lat_col in ['pickup_latitude', 'dropoff_latitude']:\n",
        "        transformed[lat_col] = layers.Lambda(\n",
        "            scale_latitude,\n",
        "            name=f'scale_{lat_col}')(inputs[lat_col])\n",
        "\n",
        "    # add Euclidean distance\n",
        "    transformed['euclidean'] = layers.Lambda(\n",
        "        euclidean,\n",
        "        name='euclidean')([inputs['pickup_longitude'],\n",
        "                           inputs['pickup_latitude'],\n",
        "                           inputs['dropoff_longitude'],\n",
        "                           inputs['dropoff_latitude']])\n",
        "        \n",
        "    \n",
        "    # Add euclidean distance to feature columns\n",
        "    feature_columns['euclidean'] = fc.numeric_column('euclidean')\n",
        "\n",
        "    return transformed, feature_columns"
      ],
      "execution_count": 18,
      "outputs": []
    },
    {
      "cell_type": "markdown",
      "metadata": {
        "id": "K5HQT79B9V-s"
      },
      "source": [
        "## Update the model\n",
        "\n",
        "Next, you'll create the DNN model now with the engineered (transformed) features."
      ]
    },
    {
      "cell_type": "code",
      "metadata": {
        "id": "ULaSC25j9V-s"
      },
      "source": [
        "def build_dnn_model():\n",
        "    \n",
        "    # input layer (notice type of float32 since features are numeric)\n",
        "    inputs = {\n",
        "        colname: layers.Input(name=colname, shape=(), dtype='float32')\n",
        "        for colname in NUMERIC_COLS\n",
        "    }\n",
        "\n",
        "    # transformed features\n",
        "    transformed, feature_columns = transform(inputs, numeric_cols=NUMERIC_COLS)\n",
        "\n",
        "    # Constructor for DenseFeatures takes a list of numeric columns\n",
        "    # and the resulting tensor takes a dictionary of Lambda layers\n",
        "    dnn_inputs = layers.DenseFeatures(feature_columns.values())(transformed)\n",
        "\n",
        "    # two hidden layers of 32 and 8 units, respectively\n",
        "    h1 = layers.Dense(32, activation='relu', name='h1')(dnn_inputs)\n",
        "    h2 = layers.Dense(8, activation='relu', name='h2')(h1)\n",
        "\n",
        "    # final output is a linear activation because this is a regression problem\n",
        "    output = layers.Dense(1, activation='linear', name='fare')(h2)\n",
        "\n",
        "    # Create model with inputs and output\n",
        "    model = models.Model(inputs, output)\n",
        "\n",
        "    # Compile model (Mean Squared Error is suitable for regression)\n",
        "    model.compile(optimizer='adam', \n",
        "                  loss='mse', \n",
        "                  metrics=[tf.keras.metrics.RootMeanSquaredError(name='rmse'), 'mse'])\n",
        "    \n",
        "    return model"
      ],
      "execution_count": 19,
      "outputs": []
    },
    {
      "cell_type": "code",
      "metadata": {
        "id": "cyNi1qgB9V-v"
      },
      "source": [
        "# Save compiled model into a variable\n",
        "model = build_dnn_model()"
      ],
      "execution_count": 20,
      "outputs": []
    },
    {
      "cell_type": "markdown",
      "metadata": {
        "id": "LI9UTFc29V-x"
      },
      "source": [
        "Let's see how the model architecture has changed."
      ]
    },
    {
      "cell_type": "code",
      "metadata": {
        "id": "-vtdSjyJ9V-y",
        "colab": {
          "base_uri": "https://localhost:8080/",
          "height": 370
        },
        "outputId": "aea4dd7e-0c54-48d2-ef86-22bd9f615039"
      },
      "source": [
        "# Plot the layer architecture and relationship between input features\n",
        "tf.keras.utils.plot_model(model, 'dnn_model_engineered.png', show_shapes=False, rankdir='LR')"
      ],
      "execution_count": 21,
      "outputs": [
        {
          "output_type": "execute_result",
          "data": {
            "image/png": "[encoded data removed]",
            "text/plain": [
              "<IPython.core.display.Image object>"
            ]
          },
          "metadata": {
            "tags": []
          },
          "execution_count": 21
        }
      ]
    },
    {
      "cell_type": "markdown",
      "metadata": {
        "id": "hQqxaAL-3X-V"
      },
      "source": [
        "This plot is very useful for understanding the relationships and dependencies between the original and the transformed features!\n",
        "\n",
        "**Notice that the input of the model now consists of 5 features instead of the original 7, thus reducing the dimensionality of the problem.**\n",
        "\n",
        "Let's now train the model that includes feature engineering."
      ]
    },
    {
      "cell_type": "code",
      "metadata": {
        "id": "M_rE0U9W9V-0",
        "colab": {
          "base_uri": "https://localhost:8080/"
        },
        "outputId": "da9e8821-852e-4329-9484-bc9c077970af"
      },
      "source": [
        "# Train the model and save the history\n",
        "history = model.fit(trainds,\n",
        "                    validation_data=evalds,\n",
        "                    epochs=NUM_EPOCHS,\n",
        "                    steps_per_epoch=steps_per_epoch)"
      ],
      "execution_count": 22,
      "outputs": [
        {
          "output_type": "stream",
          "text": [
            "Epoch 1/20\n"
          ],
          "name": "stdout"
        },
        {
          "output_type": "stream",
          "text": [
            "/usr/local/lib/python3.7/dist-packages/tensorflow/python/keras/engine/functional.py:591: UserWarning: Input dict contained keys ['passenger_count', 'hourofday', 'dayofweek'] which did not match any model input. They will be ignored by the model.\n",
            "  [n for n in tensors.keys() if n not in ref_input_names])\n"
          ],
          "name": "stderr"
        },
        {
          "output_type": "stream",
          "text": [
            "1863/1863 [==============================] - 6s 2ms/step - loss: 102.8974 - rmse: 10.1438 - mse: 102.8974 - val_loss: 67.2450 - val_rmse: 8.2003 - val_mse: 67.2450\n",
            "Epoch 2/20\n",
            "1863/1863 [==============================] - 4s 2ms/step - loss: 43.6817 - rmse: 6.6092 - mse: 43.6817 - val_loss: 33.5968 - val_rmse: 5.7963 - val_mse: 33.5968\n",
            "Epoch 3/20\n",
            "1863/1863 [==============================] - 5s 2ms/step - loss: 31.8357 - rmse: 5.6423 - mse: 31.8357 - val_loss: 31.7486 - val_rmse: 5.6346 - val_mse: 31.7486\n",
            "Epoch 4/20\n",
            "1863/1863 [==============================] - 5s 3ms/step - loss: 31.5644 - rmse: 5.6182 - mse: 31.5644 - val_loss: 29.7301 - val_rmse: 5.4525 - val_mse: 29.7301\n",
            "Epoch 5/20\n",
            "1863/1863 [==============================] - 4s 2ms/step - loss: 28.7290 - rmse: 5.3599 - mse: 28.7290 - val_loss: 28.9242 - val_rmse: 5.3781 - val_mse: 28.9242\n",
            "Epoch 6/20\n",
            "1863/1863 [==============================] - 4s 2ms/step - loss: 27.7474 - rmse: 5.2676 - mse: 27.7474 - val_loss: 27.7511 - val_rmse: 5.2679 - val_mse: 27.7511\n",
            "Epoch 7/20\n",
            "1863/1863 [==============================] - 4s 2ms/step - loss: 27.7814 - rmse: 5.2708 - mse: 27.7814 - val_loss: 28.2054 - val_rmse: 5.3109 - val_mse: 28.2054\n",
            "Epoch 8/20\n",
            "1863/1863 [==============================] - 4s 2ms/step - loss: 23.5414 - rmse: 4.8519 - mse: 23.5414 - val_loss: 27.7074 - val_rmse: 5.2638 - val_mse: 27.7074\n",
            "Epoch 9/20\n",
            "1863/1863 [==============================] - 4s 2ms/step - loss: 26.4739 - rmse: 5.1453 - mse: 26.4739 - val_loss: 27.3151 - val_rmse: 5.2264 - val_mse: 27.3151\n",
            "Epoch 10/20\n",
            "1863/1863 [==============================] - 4s 2ms/step - loss: 26.9126 - rmse: 5.1877 - mse: 26.9126 - val_loss: 27.2073 - val_rmse: 5.2161 - val_mse: 27.2073\n",
            "Epoch 11/20\n",
            "1863/1863 [==============================] - 5s 3ms/step - loss: 23.3588 - rmse: 4.8331 - mse: 23.3588 - val_loss: 26.9750 - val_rmse: 5.1937 - val_mse: 26.9750\n",
            "Epoch 12/20\n",
            "1863/1863 [==============================] - 4s 2ms/step - loss: 27.2984 - rmse: 5.2248 - mse: 27.2984 - val_loss: 26.8781 - val_rmse: 5.1844 - val_mse: 26.8781\n",
            "Epoch 13/20\n",
            "1863/1863 [==============================] - 4s 2ms/step - loss: 24.0132 - rmse: 4.9003 - mse: 24.0132 - val_loss: 27.1706 - val_rmse: 5.2125 - val_mse: 27.1706\n",
            "Epoch 14/20\n",
            "1863/1863 [==============================] - 4s 2ms/step - loss: 25.5573 - rmse: 5.0554 - mse: 25.5573 - val_loss: 26.9106 - val_rmse: 5.1875 - val_mse: 26.9106\n",
            "Epoch 15/20\n",
            "1863/1863 [==============================] - 5s 3ms/step - loss: 26.1339 - rmse: 5.1121 - mse: 26.1339 - val_loss: 27.5168 - val_rmse: 5.2456 - val_mse: 27.5168\n",
            "Epoch 16/20\n",
            "1863/1863 [==============================] - 4s 2ms/step - loss: 23.9280 - rmse: 4.8916 - mse: 23.9280 - val_loss: 26.8361 - val_rmse: 5.1804 - val_mse: 26.8361\n",
            "Epoch 17/20\n",
            "1863/1863 [==============================] - 4s 2ms/step - loss: 24.6794 - rmse: 4.9678 - mse: 24.6794 - val_loss: 23.5919 - val_rmse: 4.8572 - val_mse: 23.5919\n",
            "Epoch 18/20\n",
            "1863/1863 [==============================] - 5s 3ms/step - loss: 23.1272 - rmse: 4.8091 - mse: 23.1272 - val_loss: 26.8325 - val_rmse: 5.1800 - val_mse: 26.8325\n",
            "Epoch 19/20\n",
            "1863/1863 [==============================] - 5s 3ms/step - loss: 27.6662 - rmse: 5.2599 - mse: 27.6662 - val_loss: 26.6997 - val_rmse: 5.1672 - val_mse: 26.6997\n",
            "Epoch 20/20\n",
            "1863/1863 [==============================] - 4s 2ms/step - loss: 23.1959 - rmse: 4.8162 - mse: 23.1959 - val_loss: 26.4090 - val_rmse: 5.1390 - val_mse: 26.4090\n"
          ],
          "name": "stdout"
        }
      ]
    },
    {
      "cell_type": "markdown",
      "metadata": {
        "id": "0vjGcFRx9V-2"
      },
      "source": [
        "Notice that the features `passenger_count`, `hourofday` and `dayofweek` were excluded since they were omitted when defining the input pipeline.\n",
        "\n",
        "Now lets visualize the training history of the model with the engineered features. "
      ]
    },
    {
      "cell_type": "code",
      "metadata": {
        "id": "vfacl2gP9V-2",
        "colab": {
          "base_uri": "https://localhost:8080/",
          "height": 350
        },
        "outputId": "55043c6a-9681-4129-e56f-3f7f275e9d1e"
      },
      "source": [
        "# Plot history metrics\n",
        "plot_curves(history, ['loss', 'mse'])"
      ],
      "execution_count": 23,
      "outputs": [
        {
          "output_type": "display_data",
          "data": {
            "image/png": "[encoded data removed]",
            "text/plain": [
              "<Figure size 720x360 with 2 Axes>"
            ]
          },
          "metadata": {
            "tags": [],
            "needs_background": "light"
          }
        }
      ]
    },
    {
      "cell_type": "markdown",
      "metadata": {
        "id": "WV8ZGZev9V-5"
      },
      "source": [
        "This looks a lot better than the previous training history! Now the loss and error metrics are decreasing with each epoch and both curves (train and validation) are very close to each other. Nice job!\n",
        "\n",
        "Let's do a prediction with this new model on the example we previously used. "
      ]
    },
    {
      "cell_type": "code",
      "metadata": {
        "id": "Biqounrh9V-5",
        "colab": {
          "base_uri": "https://localhost:8080/"
        },
        "outputId": "dabcd8e4-7514-498f-dddd-c80336fae607"
      },
      "source": [
        "# Use the model to predict\n",
        "prediction = model.predict(taxi_ride, steps=1)\n",
        "\n",
        "# Print prediction\n",
        "print(f\"the model predicted a fare total of {float(prediction):.2f} USD for the ride.\")"
      ],
      "execution_count": 24,
      "outputs": [
        {
          "output_type": "stream",
          "text": [
            "the model predicted a fare total of 6.78 USD for the ride.\n"
          ],
          "name": "stdout"
        },
        {
          "output_type": "stream",
          "text": [
            "/usr/local/lib/python3.7/dist-packages/tensorflow/python/keras/engine/functional.py:591: UserWarning: Input dict contained keys ['passenger_count', 'hourofday', 'dayofweek'] which did not match any model input. They will be ignored by the model.\n",
            "  [n for n in tensors.keys() if n not in ref_input_names])\n"
          ],
          "name": "stderr"
        }
      ]
    },
    {
      "cell_type": "markdown",
      "metadata": {
        "id": "JVZCFMi74xrj"
      },
      "source": [
        "Wow, now the model predicts a fare that is roughly half of what the previous model predicted! Looks like the model with the raw features was overestimating the fare by a great margin.\n",
        "\n",
        "Notice that you get a warning since the `taxi_ride` dictionary contains information about the unused features. You can supress it by redefining `taxi_ride` without these values but it is useful to know that Keras is smart enough to handle it on its own."
      ]
    },
    {
      "cell_type": "markdown",
      "metadata": {
        "id": "qeMvthqfugsm"
      },
      "source": [
        "**Congratulations on finishing this ungraded lab!** Now you should have a clearer understanding of the importance and impact of performing feature engineering on your data. \n",
        "\n",
        "This process is very domain-specific and requires a great understanding of the situation that is being modelled. Because of this, new techniques that switch from a manual to an automatic feature engineering have been developed and you will check some of them in an upcoming lab.\n",
        "\n",
        "\n",
        "**Keep it up!**"
      ]
    },
    {
      "cell_type": "code",
      "metadata": {
        "id": "txla1f9lH9Zg"
      },
      "source": [
        ""
      ],
      "execution_count": null,
      "outputs": []
    }
  ]
}